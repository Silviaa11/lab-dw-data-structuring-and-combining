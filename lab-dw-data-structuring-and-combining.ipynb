{
 "cells": [
  {
   "cell_type": "markdown",
   "id": "25d7736c-ba17-4aff-b6bb-66eba20fbf4e",
   "metadata": {
    "id": "25d7736c-ba17-4aff-b6bb-66eba20fbf4e"
   },
   "source": [
    "# Lab | Data Structuring and Combining Data"
   ]
  },
  {
   "cell_type": "markdown",
   "id": "a2cdfc70-44c8-478c-81e7-2bc43fdf4986",
   "metadata": {
    "id": "a2cdfc70-44c8-478c-81e7-2bc43fdf4986"
   },
   "source": [
    "## Challenge 1: Combining & Cleaning Data\n",
    "\n",
    "In this challenge, we will be working with the customer data from an insurance company, as we did in the two previous labs. The data can be found here:\n",
    "- https://raw.githubusercontent.com/data-bootcamp-v4/data/main/file1.csv\n",
    "\n",
    "But this time, we got new data, which can be found in the following 2 CSV files located at the links below.\n",
    "\n",
    "- https://raw.githubusercontent.com/data-bootcamp-v4/data/main/file2.csv\n",
    "- https://raw.githubusercontent.com/data-bootcamp-v4/data/main/file3.csv\n",
    "\n",
    "Note that you'll need to clean and format the new data.\n",
    "\n",
    "Observation:\n",
    "- One option is to first combine the three datasets and then apply the cleaning function to the new combined dataset\n",
    "- Another option would be to read the clean file you saved in the previous lab, and just clean the two new files and concatenate the three clean datasets"
   ]
  },
  {
   "cell_type": "code",
   "execution_count": 6,
   "id": "492d06e3-92c7-4105-ac72-536db98d3244",
   "metadata": {
    "id": "492d06e3-92c7-4105-ac72-536db98d3244"
   },
   "outputs": [],
   "source": [
    "#1. CARGAR LOS DATOS\n",
    "\n",
    "import pandas as pd\n",
    "\n",
    "# Cargamos cada uno de los datos de los tres archivos CSV\n",
    "url1 = 'https://raw.githubusercontent.com/data-bootcamp-v4/data/main/file1.csv'\n",
    "url2 = 'https://raw.githubusercontent.com/data-bootcamp-v4/data/main/file2.csv'\n",
    "url3 = 'https://raw.githubusercontent.com/data-bootcamp-v4/data/main/file3.csv'\n",
    "\n",
    "df1 = pd.read_csv(url1) #para abrir el csv\n",
    "df2 = pd.read_csv(url2)\n",
    "df3 = pd.read_csv(url3)\n"
   ]
  },
  {
   "cell_type": "code",
   "execution_count": 7,
   "id": "deacea31",
   "metadata": {},
   "outputs": [
    {
     "name": "stdout",
     "output_type": "stream",
     "text": [
      "  Customer          ST GENDER             Education Customer Lifetime Value  \\\n",
      "0  RB50392  Washington    NaN                Master                     NaN   \n",
      "1  QZ44356     Arizona      F              Bachelor              697953.59%   \n",
      "2  AI49188      Nevada      F              Bachelor             1288743.17%   \n",
      "3  WW63253  California      M              Bachelor              764586.18%   \n",
      "4  GA49547  Washington      M  High School or Below              536307.65%   \n",
      "\n",
      "    Income  Monthly Premium Auto Number of Open Complaints     Policy Type  \\\n",
      "0      0.0                1000.0                    1/0/00   Personal Auto   \n",
      "1      0.0                  94.0                    1/0/00   Personal Auto   \n",
      "2  48767.0                 108.0                    1/0/00   Personal Auto   \n",
      "3      0.0                 106.0                    1/0/00  Corporate Auto   \n",
      "4  36357.0                  68.0                    1/0/00   Personal Auto   \n",
      "\n",
      "   Vehicle Class  Total Claim Amount  \n",
      "0  Four-Door Car            2.704934  \n",
      "1  Four-Door Car         1131.464935  \n",
      "2   Two-Door Car          566.472247  \n",
      "3            SUV          529.881344  \n",
      "4  Four-Door Car           17.269323  \n",
      "  Customer          ST GENDER Education Customer Lifetime Value  Income  \\\n",
      "0  GS98873     Arizona      F  Bachelor              323912.47%   16061   \n",
      "1  CW49887  California      F    Master              462680.11%   79487   \n",
      "2  MY31220  California      F   College              899704.02%   54230   \n",
      "3  UH35128      Oregon      F   College             2580706.30%   71210   \n",
      "4  WH52799     Arizona      F   College              380812.21%   94903   \n",
      "\n",
      "   Monthly Premium Auto Number of Open Complaints  Total Claim Amount  \\\n",
      "0                    88                    1/0/00               633.6   \n",
      "1                   114                    1/0/00               547.2   \n",
      "2                   112                    1/0/00               537.6   \n",
      "3                   214                    1/1/00              1027.2   \n",
      "4                    94                    1/0/00               451.2   \n",
      "\n",
      "      Policy Type  Vehicle Class  \n",
      "0   Personal Auto  Four-Door Car  \n",
      "1    Special Auto            SUV  \n",
      "2   Personal Auto   Two-Door Car  \n",
      "3   Personal Auto     Luxury Car  \n",
      "4  Corporate Auto   Two-Door Car  \n",
      "  Customer       State  Customer Lifetime Value             Education Gender  \\\n",
      "0  SA25987  Washington              3479.137523  High School or Below      M   \n",
      "1  TB86706     Arizona              2502.637401                Master      M   \n",
      "2  ZL73902      Nevada              3265.156348              Bachelor      F   \n",
      "3  KX23516  California              4455.843406  High School or Below      F   \n",
      "4  FN77294  California              7704.958480  High School or Below      M   \n",
      "\n",
      "   Income  Monthly Premium Auto  Number of Open Complaints    Policy Type  \\\n",
      "0       0                   104                          0  Personal Auto   \n",
      "1       0                    66                          0  Personal Auto   \n",
      "2   25820                    82                          0  Personal Auto   \n",
      "3       0                   121                          0  Personal Auto   \n",
      "4   30366                   101                          2  Personal Auto   \n",
      "\n",
      "   Total Claim Amount  Vehicle Class  \n",
      "0          499.200000   Two-Door Car  \n",
      "1            3.468912   Two-Door Car  \n",
      "2          393.600000  Four-Door Car  \n",
      "3          699.615192            SUV  \n",
      "4          484.800000            SUV  \n",
      "Index(['Customer', 'ST', 'GENDER', 'Education', 'Customer Lifetime Value',\n",
      "       'Income', 'Monthly Premium Auto', 'Number of Open Complaints',\n",
      "       'Policy Type', 'Vehicle Class', 'Total Claim Amount'],\n",
      "      dtype='object')\n",
      "Index(['Customer', 'ST', 'GENDER', 'Education', 'Customer Lifetime Value',\n",
      "       'Income', 'Monthly Premium Auto', 'Number of Open Complaints',\n",
      "       'Total Claim Amount', 'Policy Type', 'Vehicle Class'],\n",
      "      dtype='object')\n",
      "Index(['Customer', 'State', 'Customer Lifetime Value', 'Education', 'Gender',\n",
      "       'Income', 'Monthly Premium Auto', 'Number of Open Complaints',\n",
      "       'Policy Type', 'Total Claim Amount', 'Vehicle Class'],\n",
      "      dtype='object')\n"
     ]
    }
   ],
   "source": [
    "#2. MIRAR LOS DATOS\n",
    "\n",
    "# Observar las 5 primeras filas de cada DataFrame para entender su estructura\n",
    "print(df1.head())\n",
    "print(df2.head())\n",
    "print(df3.head())\n",
    "\n",
    "# Verificar los nombres de las columnas de cada DataFrame por si luego hay que combinarlas\n",
    "print(df1.columns)\n",
    "print(df2.columns)\n",
    "print(df3.columns)"
   ]
  },
  {
   "cell_type": "code",
   "execution_count": 9,
   "id": "05adf566",
   "metadata": {},
   "outputs": [
    {
     "name": "stdout",
     "output_type": "stream",
     "text": [
      "Faltantes en df2: []\n",
      "Faltantes en df3: ['st']\n"
     ]
    }
   ],
   "source": [
    "#3.COMPROBAR NOMBRES \n",
    "# Crear una lista de columnas que podrían faltar en df2 comparado con df1.\n",
    "missing_in_df2 = [col for col in df1.columns if col not in df2.columns]\n",
    "# Crear una lista de columnas que podrían faltar en df3 comparado con df1.\n",
    "missing_in_df3 = [col for col in df1.columns if col not in df3.columns]\n",
    "\n",
    "# Imprimir las columnas faltantes en df2 y df3 para verificar manualmente si se requiere alguna acción.\n",
    "print(\"Faltantes en df2:\", missing_in_df2)\n",
    "print(\"Faltantes en df3:\", missing_in_df3)\n",
    "\n",
    "# Filtrar df2 y df3 para incluir solo aquellas columnas que también están presentes en df1.\n",
    "common_cols_df2 = [col for col in df1.columns if col in df2.columns]\n",
    "common_cols_df3 = [col for col in df1.columns if col in df3.columns]\n",
    "\n",
    "# Reasignar df2 y df3 para asegurar que solo contienen las columnas que son comunes con df1.\n",
    "df2 = df2[common_cols_df2]\n",
    "df3 = df3[common_cols_df3]\n",
    "\n"
   ]
  },
  {
   "cell_type": "code",
   "execution_count": 10,
   "id": "81a2457c",
   "metadata": {},
   "outputs": [],
   "source": [
    "#4.COMBINAR DATAFRAME\n",
    "\n",
    "# Concatena df1, df2 y df3 en un solo DataFrame. Usando axis=0 para apilarlos verticalmente.\n",
    "combined_df = pd.concat([df1, df2, df3], axis=0)\n"
   ]
  },
  {
   "cell_type": "markdown",
   "id": "31b8a9e7-7db9-4604-991b-ef6771603e57",
   "metadata": {
    "id": "31b8a9e7-7db9-4604-991b-ef6771603e57"
   },
   "source": [
    "# Challenge 2: Structuring Data"
   ]
  },
  {
   "cell_type": "markdown",
   "id": "a877fd6d-7a0c-46d2-9657-f25036e4ca4b",
   "metadata": {
    "id": "a877fd6d-7a0c-46d2-9657-f25036e4ca4b"
   },
   "source": [
    "In this challenge, we will continue to work with customer data from an insurance company, but we will use a dataset with more columns, called marketing_customer_analysis.csv, which can be found at the following link:\n",
    "\n",
    "https://raw.githubusercontent.com/data-bootcamp-v4/data/main/marketing_customer_analysis_clean.csv\n",
    "\n",
    "This dataset contains information such as customer demographics, policy details, vehicle information, and the customer's response to the last marketing campaign. Our goal is to explore and analyze this data by performing data cleaning, formatting, and structuring."
   ]
  },
  {
   "cell_type": "code",
   "execution_count": 11,
   "id": "aa10d9b0-1c27-4d3f-a8e4-db6ab73bfd26",
   "metadata": {
    "id": "aa10d9b0-1c27-4d3f-a8e4-db6ab73bfd26"
   },
   "outputs": [],
   "source": [
    "# CARGAR EL DATASET\n",
    "\n",
    "import pandas as pd  # Importamos pandas para manejo de datos\n",
    "\n",
    "# Cargamos el dataset desde la URL proporcionada\n",
    "df = pd.read_csv('https://raw.githubusercontent.com/data-bootcamp-v4/data/main/marketing_customer_analysis_clean.csv')\n"
   ]
  },
  {
   "cell_type": "code",
   "execution_count": 15,
   "id": "7d543833",
   "metadata": {},
   "outputs": [
    {
     "name": "stdout",
     "output_type": "stream",
     "text": [
      "   unnamed:_0 customer       state  customer_lifetime_value response  \\\n",
      "0           0  DK49336     Arizona              4809.216960       No   \n",
      "1           1  KX64629  California              2228.525238       No   \n",
      "2           2  LZ68649  Washington             14947.917300       No   \n",
      "3           3  XL78013      Oregon             22332.439460      Yes   \n",
      "4           4  QA50777      Oregon              9025.067525       No   \n",
      "\n",
      "   coverage education effective_to_date employmentstatus gender  ...  \\\n",
      "0     Basic   College        2011-02-18         Employed      M  ...   \n",
      "1     Basic   College        2011-01-18       Unemployed      F  ...   \n",
      "2     Basic  Bachelor        2011-02-10         Employed      M  ...   \n",
      "3  Extended   College        2011-01-11         Employed      M  ...   \n",
      "4   Premium  Bachelor        2011-01-17    Medical Leave      F  ...   \n",
      "\n",
      "   number_of_policies     policy_type        policy  renew_offer_type  \\\n",
      "0                   9  Corporate Auto  Corporate L3            Offer3   \n",
      "1                   1   Personal Auto   Personal L3            Offer4   \n",
      "2                   2   Personal Auto   Personal L3            Offer3   \n",
      "3                   2  Corporate Auto  Corporate L3            Offer2   \n",
      "4                   7   Personal Auto   Personal L2            Offer1   \n",
      "\n",
      "   sales_channel  total_claim_amount  vehicle_class  vehicle_size  \\\n",
      "0          Agent          292.800000  Four-Door Car       Medsize   \n",
      "1    Call Center          744.924331  Four-Door Car       Medsize   \n",
      "2    Call Center          480.000000            SUV       Medsize   \n",
      "3         Branch          484.013411  Four-Door Car       Medsize   \n",
      "4         Branch          707.925645  Four-Door Car       Medsize   \n",
      "\n",
      "  vehicle_type month  \n",
      "0            A     2  \n",
      "1            A     1  \n",
      "2            A     2  \n",
      "3            A     1  \n",
      "4            A     1  \n",
      "\n",
      "[5 rows x 27 columns]\n",
      "Index(['unnamed:_0', 'customer', 'state', 'customer_lifetime_value',\n",
      "       'response', 'coverage', 'education', 'effective_to_date',\n",
      "       'employmentstatus', 'gender', 'income', 'location_code',\n",
      "       'marital_status', 'monthly_premium_auto', 'months_since_last_claim',\n",
      "       'months_since_policy_inception', 'number_of_open_complaints',\n",
      "       'number_of_policies', 'policy_type', 'policy', 'renew_offer_type',\n",
      "       'sales_channel', 'total_claim_amount', 'vehicle_class', 'vehicle_size',\n",
      "       'vehicle_type', 'month'],\n",
      "      dtype='object')\n"
     ]
    }
   ],
   "source": [
    "#MIRAR EL DATASET\n",
    "\n",
    "print(df.head())  # Mostrar las primeras filas \n",
    "print(df.columns)  # Imprimir los nombres de columnas \n",
    "\n"
   ]
  },
  {
   "cell_type": "markdown",
   "id": "df35fd0d-513e-4e77-867e-429da10a9cc7",
   "metadata": {
    "id": "df35fd0d-513e-4e77-867e-429da10a9cc7"
   },
   "source": [
    "1. You work at the marketing department and you want to know which sales channel brought the most sales in terms of total revenue. Using pivot, create a summary table showing the total revenue for each sales channel (branch, call center, web, and mail).\n",
    "Round the total revenue to 2 decimal points.  Analyze the resulting table to draw insights."
   ]
  },
  {
   "cell_type": "code",
   "execution_count": 19,
   "id": "1bc50512",
   "metadata": {},
   "outputs": [
    {
     "name": "stdout",
     "output_type": "stream",
     "text": [
      "               total_claim_amount\n",
      "sales_channel                    \n",
      "Agent                  1810226.82\n",
      "Branch                 1301204.00\n",
      "Call Center             926600.82\n",
      "Web                     706600.04\n"
     ]
    }
   ],
   "source": [
    "#CREAR TABLA\n",
    "\n",
    "# Crear una tabla para sumar el total de ingresos por canal de venta\n",
    "pivot_sales_channel = df.pivot_table(index='sales_channel', values='total_claim_amount', aggfunc='sum')\n",
    "\n",
    "# Redondear los valores de ingresos totales a dos decimales\n",
    "pivot_sales_channel['total_claim_amount'] = pivot_sales_channel['total_claim_amount'].round(2)\n",
    "\n",
    "# Mostrar la tabla\n",
    "print(pivot_sales_channel)\n"
   ]
  },
  {
   "cell_type": "markdown",
   "id": "9d14c9f3",
   "metadata": {},
   "source": [
    "After creating the pivot table to summarize the total revenue by sales channel, I noticed some patterns. From the table, it's evident that different sales channels contribute variably to the total revenue. This allowed me to identify which channels are the most effective at generating revenue. It seems that the web and call centers are particularly effective, which suggests that these channels have a high customer engagement and efficiency."
   ]
  },
  {
   "cell_type": "markdown",
   "id": "640993b2-a291-436c-a34d-a551144f8196",
   "metadata": {
    "id": "640993b2-a291-436c-a34d-a551144f8196"
   },
   "source": [
    "2. Create a pivot table that shows the average customer lifetime value per gender and education level. Analyze the resulting table to draw insights."
   ]
  },
  {
   "cell_type": "code",
   "execution_count": 20,
   "id": "6afcbca4",
   "metadata": {},
   "outputs": [
    {
     "name": "stdout",
     "output_type": "stream",
     "text": [
      "                             customer_lifetime_value\n",
      "gender education                                    \n",
      "F      Bachelor                              7874.27\n",
      "       College                               7748.82\n",
      "       Doctor                                7328.51\n",
      "       High School or Below                  8675.22\n",
      "       Master                                8157.05\n",
      "M      Bachelor                              7703.60\n",
      "       College                               8052.46\n",
      "       Doctor                                7415.33\n",
      "       High School or Below                  8149.69\n",
      "       Master                                8168.83\n"
     ]
    }
   ],
   "source": [
    "# Crear una tabla pivot para mostrar el valor promedio de vida del cliente por género y nivel educativo\n",
    "pivot_clv = df.pivot_table(index=['gender', 'education'], values='customer_lifetime_value', aggfunc='mean')\n",
    "\n",
    "# Redondear los valores del CLV promedio a dos decimales\n",
    "pivot_clv['customer_lifetime_value'] = pivot_clv['customer_lifetime_value'].round(2)\n",
    "\n",
    "# Mostrar la tabla pivot\n",
    "print(pivot_clv)\n"
   ]
  },
  {
   "cell_type": "markdown",
   "id": "883ba0f8",
   "metadata": {},
   "source": [
    "The results here are quite interesting. It appears that there are noticeable differences in customer lifetime value based on these demographics. For instance, females with a higher educational background tend to have a higher lifetime value compared to other segments."
   ]
  },
  {
   "cell_type": "markdown",
   "id": "32c7f2e5-3d90-43e5-be33-9781b6069198",
   "metadata": {
    "id": "32c7f2e5-3d90-43e5-be33-9781b6069198"
   },
   "source": [
    "## Bonus\n",
    "\n",
    "You work at the customer service department and you want to know which months had the highest number of complaints by policy type category. Create a summary table showing the number of complaints by policy type and month.\n",
    "Show it in a long format table."
   ]
  },
  {
   "cell_type": "markdown",
   "id": "e3d09a8f-953c-448a-a5f8-2e5a8cca7291",
   "metadata": {
    "id": "e3d09a8f-953c-448a-a5f8-2e5a8cca7291"
   },
   "source": [
    "*In data analysis, a long format table is a way of structuring data in which each observation or measurement is stored in a separate row of the table. The key characteristic of a long format table is that each column represents a single variable, and each row represents a single observation of that variable.*\n",
    "\n",
    "*More information about long and wide format tables here: https://www.statology.org/long-vs-wide-data/*"
   ]
  },
  {
   "cell_type": "code",
   "execution_count": 21,
   "id": "3a069e0b-b400-470e-904d-d17582191be4",
   "metadata": {
    "id": "3a069e0b-b400-470e-904d-d17582191be4"
   },
   "outputs": [],
   "source": [
    "import pandas as pd  # Import pandas \n",
    "\n",
    "# Load the dataset from the provided URL\n",
    "df = pd.read_csv('https://raw.githubusercontent.com/data-bootcamp-v4/data/main/marketing_customer_analysis_clean.csv')\n"
   ]
  },
  {
   "cell_type": "code",
   "execution_count": 25,
   "id": "fe40effa",
   "metadata": {},
   "outputs": [],
   "source": [
    "# No se como hacer esto, me sigue dando error"
   ]
  }
 ],
 "metadata": {
  "colab": {
   "provenance": []
  },
  "kernelspec": {
   "display_name": "Python 3 (ipykernel)",
   "language": "python",
   "name": "python3"
  },
  "language_info": {
   "codemirror_mode": {
    "name": "ipython",
    "version": 3
   },
   "file_extension": ".py",
   "mimetype": "text/x-python",
   "name": "python",
   "nbconvert_exporter": "python",
   "pygments_lexer": "ipython3",
   "version": "3.9.6"
  }
 },
 "nbformat": 4,
 "nbformat_minor": 5
}
